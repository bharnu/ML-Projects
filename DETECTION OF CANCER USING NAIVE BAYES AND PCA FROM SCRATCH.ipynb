{
 "cells": [
  {
   "cell_type": "code",
   "execution_count": 1,
   "id": "8d5c5741",
   "metadata": {},
   "outputs": [],
   "source": [
    "import pandas as pd\n",
    "import numpy as np\n",
    "import matplotlib as plt\n",
    "import seaborn as sns\n",
    "import scipy.stats as s\n",
    "from sklearn.metrics import classification_report"
   ]
  },
  {
   "cell_type": "code",
   "execution_count": 2,
   "id": "82e04a10",
   "metadata": {},
   "outputs": [
    {
     "data": {
      "text/html": [
       "<div>\n",
       "<style scoped>\n",
       "    .dataframe tbody tr th:only-of-type {\n",
       "        vertical-align: middle;\n",
       "    }\n",
       "\n",
       "    .dataframe tbody tr th {\n",
       "        vertical-align: top;\n",
       "    }\n",
       "\n",
       "    .dataframe thead th {\n",
       "        text-align: right;\n",
       "    }\n",
       "</style>\n",
       "<table border=\"1\" class=\"dataframe\">\n",
       "  <thead>\n",
       "    <tr style=\"text-align: right;\">\n",
       "      <th></th>\n",
       "      <th>id</th>\n",
       "      <th>diagnosis</th>\n",
       "      <th>radius_mean</th>\n",
       "      <th>texture_mean</th>\n",
       "      <th>perimeter_mean</th>\n",
       "      <th>area_mean</th>\n",
       "      <th>smoothness_mean</th>\n",
       "      <th>compactness_mean</th>\n",
       "      <th>concavity_mean</th>\n",
       "      <th>concave points_mean</th>\n",
       "      <th>...</th>\n",
       "      <th>texture_worst</th>\n",
       "      <th>perimeter_worst</th>\n",
       "      <th>area_worst</th>\n",
       "      <th>smoothness_worst</th>\n",
       "      <th>compactness_worst</th>\n",
       "      <th>concavity_worst</th>\n",
       "      <th>concave points_worst</th>\n",
       "      <th>symmetry_worst</th>\n",
       "      <th>fractal_dimension_worst</th>\n",
       "      <th>Unnamed: 32</th>\n",
       "    </tr>\n",
       "  </thead>\n",
       "  <tbody>\n",
       "    <tr>\n",
       "      <th>0</th>\n",
       "      <td>842302</td>\n",
       "      <td>M</td>\n",
       "      <td>17.99</td>\n",
       "      <td>10.38</td>\n",
       "      <td>122.80</td>\n",
       "      <td>1001.0</td>\n",
       "      <td>0.11840</td>\n",
       "      <td>0.27760</td>\n",
       "      <td>0.3001</td>\n",
       "      <td>0.14710</td>\n",
       "      <td>...</td>\n",
       "      <td>17.33</td>\n",
       "      <td>184.60</td>\n",
       "      <td>2019.0</td>\n",
       "      <td>0.1622</td>\n",
       "      <td>0.6656</td>\n",
       "      <td>0.7119</td>\n",
       "      <td>0.2654</td>\n",
       "      <td>0.4601</td>\n",
       "      <td>0.11890</td>\n",
       "      <td>NaN</td>\n",
       "    </tr>\n",
       "    <tr>\n",
       "      <th>1</th>\n",
       "      <td>842517</td>\n",
       "      <td>M</td>\n",
       "      <td>20.57</td>\n",
       "      <td>17.77</td>\n",
       "      <td>132.90</td>\n",
       "      <td>1326.0</td>\n",
       "      <td>0.08474</td>\n",
       "      <td>0.07864</td>\n",
       "      <td>0.0869</td>\n",
       "      <td>0.07017</td>\n",
       "      <td>...</td>\n",
       "      <td>23.41</td>\n",
       "      <td>158.80</td>\n",
       "      <td>1956.0</td>\n",
       "      <td>0.1238</td>\n",
       "      <td>0.1866</td>\n",
       "      <td>0.2416</td>\n",
       "      <td>0.1860</td>\n",
       "      <td>0.2750</td>\n",
       "      <td>0.08902</td>\n",
       "      <td>NaN</td>\n",
       "    </tr>\n",
       "    <tr>\n",
       "      <th>2</th>\n",
       "      <td>84300903</td>\n",
       "      <td>M</td>\n",
       "      <td>19.69</td>\n",
       "      <td>21.25</td>\n",
       "      <td>130.00</td>\n",
       "      <td>1203.0</td>\n",
       "      <td>0.10960</td>\n",
       "      <td>0.15990</td>\n",
       "      <td>0.1974</td>\n",
       "      <td>0.12790</td>\n",
       "      <td>...</td>\n",
       "      <td>25.53</td>\n",
       "      <td>152.50</td>\n",
       "      <td>1709.0</td>\n",
       "      <td>0.1444</td>\n",
       "      <td>0.4245</td>\n",
       "      <td>0.4504</td>\n",
       "      <td>0.2430</td>\n",
       "      <td>0.3613</td>\n",
       "      <td>0.08758</td>\n",
       "      <td>NaN</td>\n",
       "    </tr>\n",
       "    <tr>\n",
       "      <th>3</th>\n",
       "      <td>84348301</td>\n",
       "      <td>M</td>\n",
       "      <td>11.42</td>\n",
       "      <td>20.38</td>\n",
       "      <td>77.58</td>\n",
       "      <td>386.1</td>\n",
       "      <td>0.14250</td>\n",
       "      <td>0.28390</td>\n",
       "      <td>0.2414</td>\n",
       "      <td>0.10520</td>\n",
       "      <td>...</td>\n",
       "      <td>26.50</td>\n",
       "      <td>98.87</td>\n",
       "      <td>567.7</td>\n",
       "      <td>0.2098</td>\n",
       "      <td>0.8663</td>\n",
       "      <td>0.6869</td>\n",
       "      <td>0.2575</td>\n",
       "      <td>0.6638</td>\n",
       "      <td>0.17300</td>\n",
       "      <td>NaN</td>\n",
       "    </tr>\n",
       "    <tr>\n",
       "      <th>4</th>\n",
       "      <td>84358402</td>\n",
       "      <td>M</td>\n",
       "      <td>20.29</td>\n",
       "      <td>14.34</td>\n",
       "      <td>135.10</td>\n",
       "      <td>1297.0</td>\n",
       "      <td>0.10030</td>\n",
       "      <td>0.13280</td>\n",
       "      <td>0.1980</td>\n",
       "      <td>0.10430</td>\n",
       "      <td>...</td>\n",
       "      <td>16.67</td>\n",
       "      <td>152.20</td>\n",
       "      <td>1575.0</td>\n",
       "      <td>0.1374</td>\n",
       "      <td>0.2050</td>\n",
       "      <td>0.4000</td>\n",
       "      <td>0.1625</td>\n",
       "      <td>0.2364</td>\n",
       "      <td>0.07678</td>\n",
       "      <td>NaN</td>\n",
       "    </tr>\n",
       "  </tbody>\n",
       "</table>\n",
       "<p>5 rows × 33 columns</p>\n",
       "</div>"
      ],
      "text/plain": [
       "         id diagnosis  radius_mean  texture_mean  perimeter_mean  area_mean  \\\n",
       "0    842302         M        17.99         10.38          122.80     1001.0   \n",
       "1    842517         M        20.57         17.77          132.90     1326.0   \n",
       "2  84300903         M        19.69         21.25          130.00     1203.0   \n",
       "3  84348301         M        11.42         20.38           77.58      386.1   \n",
       "4  84358402         M        20.29         14.34          135.10     1297.0   \n",
       "\n",
       "   smoothness_mean  compactness_mean  concavity_mean  concave points_mean  \\\n",
       "0          0.11840           0.27760          0.3001              0.14710   \n",
       "1          0.08474           0.07864          0.0869              0.07017   \n",
       "2          0.10960           0.15990          0.1974              0.12790   \n",
       "3          0.14250           0.28390          0.2414              0.10520   \n",
       "4          0.10030           0.13280          0.1980              0.10430   \n",
       "\n",
       "   ...  texture_worst  perimeter_worst  area_worst  smoothness_worst  \\\n",
       "0  ...          17.33           184.60      2019.0            0.1622   \n",
       "1  ...          23.41           158.80      1956.0            0.1238   \n",
       "2  ...          25.53           152.50      1709.0            0.1444   \n",
       "3  ...          26.50            98.87       567.7            0.2098   \n",
       "4  ...          16.67           152.20      1575.0            0.1374   \n",
       "\n",
       "   compactness_worst  concavity_worst  concave points_worst  symmetry_worst  \\\n",
       "0             0.6656           0.7119                0.2654          0.4601   \n",
       "1             0.1866           0.2416                0.1860          0.2750   \n",
       "2             0.4245           0.4504                0.2430          0.3613   \n",
       "3             0.8663           0.6869                0.2575          0.6638   \n",
       "4             0.2050           0.4000                0.1625          0.2364   \n",
       "\n",
       "   fractal_dimension_worst  Unnamed: 32  \n",
       "0                  0.11890          NaN  \n",
       "1                  0.08902          NaN  \n",
       "2                  0.08758          NaN  \n",
       "3                  0.17300          NaN  \n",
       "4                  0.07678          NaN  \n",
       "\n",
       "[5 rows x 33 columns]"
      ]
     },
     "execution_count": 2,
     "metadata": {},
     "output_type": "execute_result"
    }
   ],
   "source": [
    "data = pd.read_csv('data (1).csv')\n",
    "data.head()"
   ]
  },
  {
   "cell_type": "code",
   "execution_count": 3,
   "id": "c608192b",
   "metadata": {},
   "outputs": [
    {
     "data": {
      "text/plain": [
       "Index(['id', 'diagnosis', 'radius_mean', 'texture_mean', 'perimeter_mean',\n",
       "       'area_mean', 'smoothness_mean', 'compactness_mean', 'concavity_mean',\n",
       "       'concave points_mean', 'symmetry_mean', 'fractal_dimension_mean',\n",
       "       'radius_se', 'texture_se', 'perimeter_se', 'area_se', 'smoothness_se',\n",
       "       'compactness_se', 'concavity_se', 'concave points_se', 'symmetry_se',\n",
       "       'fractal_dimension_se', 'radius_worst', 'texture_worst',\n",
       "       'perimeter_worst', 'area_worst', 'smoothness_worst',\n",
       "       'compactness_worst', 'concavity_worst', 'concave points_worst',\n",
       "       'symmetry_worst', 'fractal_dimension_worst', 'Unnamed: 32'],\n",
       "      dtype='object')"
      ]
     },
     "execution_count": 3,
     "metadata": {},
     "output_type": "execute_result"
    }
   ],
   "source": [
    "data.columns"
   ]
  },
  {
   "cell_type": "code",
   "execution_count": 4,
   "id": "60ee30f1",
   "metadata": {},
   "outputs": [],
   "source": [
    "data.drop([data.columns[0],data.columns[32]],axis=1,inplace= True)"
   ]
  },
  {
   "cell_type": "code",
   "execution_count": 5,
   "id": "5131a758",
   "metadata": {},
   "outputs": [
    {
     "data": {
      "text/plain": [
       "Index(['diagnosis', 'radius_mean', 'texture_mean', 'perimeter_mean',\n",
       "       'area_mean', 'smoothness_mean', 'compactness_mean', 'concavity_mean',\n",
       "       'concave points_mean', 'symmetry_mean', 'fractal_dimension_mean',\n",
       "       'radius_se', 'texture_se', 'perimeter_se', 'area_se', 'smoothness_se',\n",
       "       'compactness_se', 'concavity_se', 'concave points_se', 'symmetry_se',\n",
       "       'fractal_dimension_se', 'radius_worst', 'texture_worst',\n",
       "       'perimeter_worst', 'area_worst', 'smoothness_worst',\n",
       "       'compactness_worst', 'concavity_worst', 'concave points_worst',\n",
       "       'symmetry_worst', 'fractal_dimension_worst'],\n",
       "      dtype='object')"
      ]
     },
     "execution_count": 5,
     "metadata": {},
     "output_type": "execute_result"
    }
   ],
   "source": [
    "data.columns"
   ]
  },
  {
   "cell_type": "code",
   "execution_count": 6,
   "id": "2346d254",
   "metadata": {},
   "outputs": [
    {
     "data": {
      "text/plain": [
       "(569, 1)"
      ]
     },
     "execution_count": 6,
     "metadata": {},
     "output_type": "execute_result"
    }
   ],
   "source": [
    "labels = np.array(data['diagnosis']).reshape(data['diagnosis'].shape[0],1)\n",
    "labels.shape"
   ]
  },
  {
   "cell_type": "code",
   "execution_count": 7,
   "id": "e96e06ae",
   "metadata": {},
   "outputs": [
    {
     "data": {
      "text/plain": [
       "(569, 30)"
      ]
     },
     "execution_count": 7,
     "metadata": {},
     "output_type": "execute_result"
    }
   ],
   "source": [
    "X= np.array(data.iloc[:,1:])\n",
    "X.shape"
   ]
  },
  {
   "cell_type": "code",
   "execution_count": 8,
   "id": "85d0989c",
   "metadata": {},
   "outputs": [
    {
     "data": {
      "text/plain": [
       "(30,)"
      ]
     },
     "execution_count": 8,
     "metadata": {},
     "output_type": "execute_result"
    }
   ],
   "source": [
    "mu = np.mean(X,axis=0)\n",
    "mu.shape"
   ]
  },
  {
   "cell_type": "code",
   "execution_count": 9,
   "id": "90e0c1ad",
   "metadata": {},
   "outputs": [
    {
     "data": {
      "text/plain": [
       "(1, 30)"
      ]
     },
     "execution_count": 9,
     "metadata": {},
     "output_type": "execute_result"
    }
   ],
   "source": [
    "mu_hat=mu.reshape(1,mu.shape[0])\n",
    "mu_hat.shape"
   ]
  },
  {
   "cell_type": "code",
   "execution_count": 10,
   "id": "0d8d1bea",
   "metadata": {},
   "outputs": [
    {
     "data": {
      "text/plain": [
       "(569, 30)"
      ]
     },
     "execution_count": 10,
     "metadata": {},
     "output_type": "execute_result"
    }
   ],
   "source": [
    "X_dash=X-mu_hat\n",
    "X_dash.shape"
   ]
  },
  {
   "cell_type": "code",
   "execution_count": 11,
   "id": "fa624aaa",
   "metadata": {},
   "outputs": [
    {
     "data": {
      "text/plain": [
       "(30, 30)"
      ]
     },
     "execution_count": 11,
     "metadata": {},
     "output_type": "execute_result"
    }
   ],
   "source": [
    "sigma_hat=1/(data.shape[0])*np.matmul(X_dash.T,X_dash)\n",
    "sigma_hat.shape"
   ]
  },
  {
   "cell_type": "code",
   "execution_count": 12,
   "id": "abf22d9a",
   "metadata": {},
   "outputs": [
    {
     "data": {
      "text/plain": [
       "3"
      ]
     },
     "execution_count": 12,
     "metadata": {},
     "output_type": "execute_result"
    }
   ],
   "source": [
    "#now do singular value decomposition o sigma hat\n",
    "sigma_hat_decompose = np.linalg.svd(sigma_hat)\n",
    "len(sigma_hat_decompose)"
   ]
  },
  {
   "cell_type": "code",
   "execution_count": 13,
   "id": "8dfcd986",
   "metadata": {},
   "outputs": [],
   "source": [
    "Q=sigma_hat_decompose[0]\n",
    "lamda=sigma_hat_decompose[1]"
   ]
  },
  {
   "cell_type": "code",
   "execution_count": 14,
   "id": "2fe8a953",
   "metadata": {},
   "outputs": [
    {
     "data": {
      "text/plain": [
       "array([4.43002671e+05, 7.29725279e+03, 7.02596776e+02, 5.45526944e+01,\n",
       "       3.98199123e+01, 2.99930721e+00, 1.81213991e+00, 3.70813899e-01,\n",
       "       1.55240237e-01, 8.39134846e-02, 3.15534015e-02, 7.48418875e-03,\n",
       "       3.15610001e-03, 2.15770517e-03, 1.32420744e-03, 6.39144051e-04,\n",
       "       3.74224474e-04, 2.34756323e-04, 1.84259067e-04, 1.63891523e-04,\n",
       "       7.79729248e-05, 5.75099161e-05, 3.48559114e-05, 2.83453651e-05,\n",
       "       1.61179909e-05, 1.24682907e-05, 3.67401338e-06, 2.84289915e-06,\n",
       "       2.00139207e-06, 7.00763523e-07])"
      ]
     },
     "execution_count": 14,
     "metadata": {},
     "output_type": "execute_result"
    }
   ],
   "source": [
    "lamda"
   ]
  },
  {
   "cell_type": "code",
   "execution_count": 15,
   "id": "adc85f58",
   "metadata": {},
   "outputs": [
    {
     "data": {
      "text/plain": [
       "(30, 15)"
      ]
     },
     "execution_count": 15,
     "metadata": {},
     "output_type": "execute_result"
    }
   ],
   "source": [
    "Q_tilda =Q[:,0:15]\n",
    "Q_tilda.shape"
   ]
  },
  {
   "cell_type": "code",
   "execution_count": 16,
   "id": "e0a97fcb",
   "metadata": {},
   "outputs": [
    {
     "data": {
      "text/plain": [
       "(569, 15)"
      ]
     },
     "execution_count": 16,
     "metadata": {},
     "output_type": "execute_result"
    }
   ],
   "source": [
    "X_new=np.matmul(X_dash,Q_tilda)\n",
    "X_new.shape"
   ]
  },
  {
   "cell_type": "code",
   "execution_count": 17,
   "id": "b3c22f04",
   "metadata": {},
   "outputs": [],
   "source": [
    "new_data=pd.DataFrame(data=X_new)"
   ]
  },
  {
   "cell_type": "code",
   "execution_count": 18,
   "id": "35d1156a",
   "metadata": {},
   "outputs": [
    {
     "data": {
      "text/html": [
       "<div>\n",
       "<style scoped>\n",
       "    .dataframe tbody tr th:only-of-type {\n",
       "        vertical-align: middle;\n",
       "    }\n",
       "\n",
       "    .dataframe tbody tr th {\n",
       "        vertical-align: top;\n",
       "    }\n",
       "\n",
       "    .dataframe thead th {\n",
       "        text-align: right;\n",
       "    }\n",
       "</style>\n",
       "<table border=\"1\" class=\"dataframe\">\n",
       "  <thead>\n",
       "    <tr style=\"text-align: right;\">\n",
       "      <th></th>\n",
       "      <th>0</th>\n",
       "      <th>1</th>\n",
       "      <th>2</th>\n",
       "      <th>3</th>\n",
       "      <th>4</th>\n",
       "      <th>5</th>\n",
       "      <th>6</th>\n",
       "      <th>7</th>\n",
       "      <th>8</th>\n",
       "      <th>9</th>\n",
       "      <th>10</th>\n",
       "      <th>11</th>\n",
       "      <th>12</th>\n",
       "      <th>13</th>\n",
       "      <th>14</th>\n",
       "    </tr>\n",
       "  </thead>\n",
       "  <tbody>\n",
       "    <tr>\n",
       "      <th>0</th>\n",
       "      <td>-1160.142574</td>\n",
       "      <td>-293.917544</td>\n",
       "      <td>48.578398</td>\n",
       "      <td>8.711975</td>\n",
       "      <td>32.000486</td>\n",
       "      <td>-1.265415</td>\n",
       "      <td>0.931337</td>\n",
       "      <td>-0.148167</td>\n",
       "      <td>-0.745463</td>\n",
       "      <td>0.589359</td>\n",
       "      <td>0.307804</td>\n",
       "      <td>-0.043452</td>\n",
       "      <td>0.034777</td>\n",
       "      <td>-0.065069</td>\n",
       "      <td>0.012934</td>\n",
       "    </tr>\n",
       "    <tr>\n",
       "      <th>1</th>\n",
       "      <td>-1269.122443</td>\n",
       "      <td>15.630182</td>\n",
       "      <td>-35.394534</td>\n",
       "      <td>-17.861283</td>\n",
       "      <td>-4.334874</td>\n",
       "      <td>0.225872</td>\n",
       "      <td>-0.046037</td>\n",
       "      <td>-0.200804</td>\n",
       "      <td>0.485828</td>\n",
       "      <td>-0.084035</td>\n",
       "      <td>-0.080642</td>\n",
       "      <td>-0.033042</td>\n",
       "      <td>0.045485</td>\n",
       "      <td>0.005534</td>\n",
       "      <td>-0.021368</td>\n",
       "    </tr>\n",
       "    <tr>\n",
       "      <th>2</th>\n",
       "      <td>-995.793889</td>\n",
       "      <td>39.156743</td>\n",
       "      <td>-1.709753</td>\n",
       "      <td>-4.199340</td>\n",
       "      <td>-0.466529</td>\n",
       "      <td>2.652811</td>\n",
       "      <td>-0.779745</td>\n",
       "      <td>0.274026</td>\n",
       "      <td>0.173874</td>\n",
       "      <td>-0.186994</td>\n",
       "      <td>-0.279174</td>\n",
       "      <td>0.020464</td>\n",
       "      <td>0.083505</td>\n",
       "      <td>-0.024824</td>\n",
       "      <td>0.026887</td>\n",
       "    </tr>\n",
       "    <tr>\n",
       "      <th>3</th>\n",
       "      <td>407.180803</td>\n",
       "      <td>-67.380320</td>\n",
       "      <td>8.672848</td>\n",
       "      <td>11.759867</td>\n",
       "      <td>7.115461</td>\n",
       "      <td>-1.299436</td>\n",
       "      <td>-1.267304</td>\n",
       "      <td>0.060555</td>\n",
       "      <td>0.330639</td>\n",
       "      <td>-0.144155</td>\n",
       "      <td>-0.927471</td>\n",
       "      <td>0.174720</td>\n",
       "      <td>0.282556</td>\n",
       "      <td>-0.080057</td>\n",
       "      <td>-0.043201</td>\n",
       "    </tr>\n",
       "    <tr>\n",
       "      <th>4</th>\n",
       "      <td>-930.341180</td>\n",
       "      <td>189.340742</td>\n",
       "      <td>1.374801</td>\n",
       "      <td>-8.499183</td>\n",
       "      <td>7.613289</td>\n",
       "      <td>-1.021160</td>\n",
       "      <td>-0.335522</td>\n",
       "      <td>-0.289109</td>\n",
       "      <td>-0.036087</td>\n",
       "      <td>-0.138502</td>\n",
       "      <td>-0.042228</td>\n",
       "      <td>0.062721</td>\n",
       "      <td>-0.114247</td>\n",
       "      <td>-0.002274</td>\n",
       "      <td>0.019548</td>\n",
       "    </tr>\n",
       "  </tbody>\n",
       "</table>\n",
       "</div>"
      ],
      "text/plain": [
       "            0           1          2          3          4         5   \\\n",
       "0 -1160.142574 -293.917544  48.578398   8.711975  32.000486 -1.265415   \n",
       "1 -1269.122443   15.630182 -35.394534 -17.861283  -4.334874  0.225872   \n",
       "2  -995.793889   39.156743  -1.709753  -4.199340  -0.466529  2.652811   \n",
       "3   407.180803  -67.380320   8.672848  11.759867   7.115461 -1.299436   \n",
       "4  -930.341180  189.340742   1.374801  -8.499183   7.613289 -1.021160   \n",
       "\n",
       "         6         7         8         9         10        11        12  \\\n",
       "0  0.931337 -0.148167 -0.745463  0.589359  0.307804 -0.043452  0.034777   \n",
       "1 -0.046037 -0.200804  0.485828 -0.084035 -0.080642 -0.033042  0.045485   \n",
       "2 -0.779745  0.274026  0.173874 -0.186994 -0.279174  0.020464  0.083505   \n",
       "3 -1.267304  0.060555  0.330639 -0.144155 -0.927471  0.174720  0.282556   \n",
       "4 -0.335522 -0.289109 -0.036087 -0.138502 -0.042228  0.062721 -0.114247   \n",
       "\n",
       "         13        14  \n",
       "0 -0.065069  0.012934  \n",
       "1  0.005534 -0.021368  \n",
       "2 -0.024824  0.026887  \n",
       "3 -0.080057 -0.043201  \n",
       "4 -0.002274  0.019548  "
      ]
     },
     "execution_count": 18,
     "metadata": {},
     "output_type": "execute_result"
    }
   ],
   "source": [
    "new_data.head()"
   ]
  },
  {
   "cell_type": "code",
   "execution_count": 19,
   "id": "f6833abf",
   "metadata": {},
   "outputs": [
    {
     "data": {
      "text/plain": [
       "(569, 16)"
      ]
     },
     "execution_count": 19,
     "metadata": {},
     "output_type": "execute_result"
    }
   ],
   "source": [
    "new_data['diagnosis']=labels\n",
    "#this is our projectd data \n",
    "new_data.shape"
   ]
  },
  {
   "cell_type": "code",
   "execution_count": 20,
   "id": "3b758126",
   "metadata": {},
   "outputs": [
    {
     "data": {
      "text/html": [
       "<div>\n",
       "<style scoped>\n",
       "    .dataframe tbody tr th:only-of-type {\n",
       "        vertical-align: middle;\n",
       "    }\n",
       "\n",
       "    .dataframe tbody tr th {\n",
       "        vertical-align: top;\n",
       "    }\n",
       "\n",
       "    .dataframe thead th {\n",
       "        text-align: right;\n",
       "    }\n",
       "</style>\n",
       "<table border=\"1\" class=\"dataframe\">\n",
       "  <thead>\n",
       "    <tr style=\"text-align: right;\">\n",
       "      <th></th>\n",
       "      <th>0</th>\n",
       "      <th>1</th>\n",
       "      <th>2</th>\n",
       "      <th>3</th>\n",
       "      <th>4</th>\n",
       "      <th>5</th>\n",
       "      <th>6</th>\n",
       "      <th>7</th>\n",
       "      <th>8</th>\n",
       "      <th>9</th>\n",
       "      <th>10</th>\n",
       "      <th>11</th>\n",
       "      <th>12</th>\n",
       "      <th>13</th>\n",
       "      <th>14</th>\n",
       "      <th>diagnosis</th>\n",
       "    </tr>\n",
       "  </thead>\n",
       "  <tbody>\n",
       "    <tr>\n",
       "      <th>0</th>\n",
       "      <td>-1160.142574</td>\n",
       "      <td>-293.917544</td>\n",
       "      <td>48.578398</td>\n",
       "      <td>8.711975</td>\n",
       "      <td>32.000486</td>\n",
       "      <td>-1.265415</td>\n",
       "      <td>0.931337</td>\n",
       "      <td>-0.148167</td>\n",
       "      <td>-0.745463</td>\n",
       "      <td>0.589359</td>\n",
       "      <td>0.307804</td>\n",
       "      <td>-0.043452</td>\n",
       "      <td>0.034777</td>\n",
       "      <td>-0.065069</td>\n",
       "      <td>0.012934</td>\n",
       "      <td>M</td>\n",
       "    </tr>\n",
       "    <tr>\n",
       "      <th>1</th>\n",
       "      <td>-1269.122443</td>\n",
       "      <td>15.630182</td>\n",
       "      <td>-35.394534</td>\n",
       "      <td>-17.861283</td>\n",
       "      <td>-4.334874</td>\n",
       "      <td>0.225872</td>\n",
       "      <td>-0.046037</td>\n",
       "      <td>-0.200804</td>\n",
       "      <td>0.485828</td>\n",
       "      <td>-0.084035</td>\n",
       "      <td>-0.080642</td>\n",
       "      <td>-0.033042</td>\n",
       "      <td>0.045485</td>\n",
       "      <td>0.005534</td>\n",
       "      <td>-0.021368</td>\n",
       "      <td>M</td>\n",
       "    </tr>\n",
       "    <tr>\n",
       "      <th>2</th>\n",
       "      <td>-995.793889</td>\n",
       "      <td>39.156743</td>\n",
       "      <td>-1.709753</td>\n",
       "      <td>-4.199340</td>\n",
       "      <td>-0.466529</td>\n",
       "      <td>2.652811</td>\n",
       "      <td>-0.779745</td>\n",
       "      <td>0.274026</td>\n",
       "      <td>0.173874</td>\n",
       "      <td>-0.186994</td>\n",
       "      <td>-0.279174</td>\n",
       "      <td>0.020464</td>\n",
       "      <td>0.083505</td>\n",
       "      <td>-0.024824</td>\n",
       "      <td>0.026887</td>\n",
       "      <td>M</td>\n",
       "    </tr>\n",
       "    <tr>\n",
       "      <th>3</th>\n",
       "      <td>407.180803</td>\n",
       "      <td>-67.380320</td>\n",
       "      <td>8.672848</td>\n",
       "      <td>11.759867</td>\n",
       "      <td>7.115461</td>\n",
       "      <td>-1.299436</td>\n",
       "      <td>-1.267304</td>\n",
       "      <td>0.060555</td>\n",
       "      <td>0.330639</td>\n",
       "      <td>-0.144155</td>\n",
       "      <td>-0.927471</td>\n",
       "      <td>0.174720</td>\n",
       "      <td>0.282556</td>\n",
       "      <td>-0.080057</td>\n",
       "      <td>-0.043201</td>\n",
       "      <td>M</td>\n",
       "    </tr>\n",
       "    <tr>\n",
       "      <th>4</th>\n",
       "      <td>-930.341180</td>\n",
       "      <td>189.340742</td>\n",
       "      <td>1.374801</td>\n",
       "      <td>-8.499183</td>\n",
       "      <td>7.613289</td>\n",
       "      <td>-1.021160</td>\n",
       "      <td>-0.335522</td>\n",
       "      <td>-0.289109</td>\n",
       "      <td>-0.036087</td>\n",
       "      <td>-0.138502</td>\n",
       "      <td>-0.042228</td>\n",
       "      <td>0.062721</td>\n",
       "      <td>-0.114247</td>\n",
       "      <td>-0.002274</td>\n",
       "      <td>0.019548</td>\n",
       "      <td>M</td>\n",
       "    </tr>\n",
       "    <tr>\n",
       "      <th>...</th>\n",
       "      <td>...</td>\n",
       "      <td>...</td>\n",
       "      <td>...</td>\n",
       "      <td>...</td>\n",
       "      <td>...</td>\n",
       "      <td>...</td>\n",
       "      <td>...</td>\n",
       "      <td>...</td>\n",
       "      <td>...</td>\n",
       "      <td>...</td>\n",
       "      <td>...</td>\n",
       "      <td>...</td>\n",
       "      <td>...</td>\n",
       "      <td>...</td>\n",
       "      <td>...</td>\n",
       "      <td>...</td>\n",
       "    </tr>\n",
       "    <tr>\n",
       "      <th>564</th>\n",
       "      <td>-1414.126684</td>\n",
       "      <td>110.222492</td>\n",
       "      <td>40.065944</td>\n",
       "      <td>-6.562240</td>\n",
       "      <td>-5.102856</td>\n",
       "      <td>0.395424</td>\n",
       "      <td>-0.786751</td>\n",
       "      <td>-0.037082</td>\n",
       "      <td>0.452530</td>\n",
       "      <td>-0.235185</td>\n",
       "      <td>-0.163649</td>\n",
       "      <td>-0.052543</td>\n",
       "      <td>-0.075032</td>\n",
       "      <td>0.015211</td>\n",
       "      <td>0.061390</td>\n",
       "      <td>M</td>\n",
       "    </tr>\n",
       "    <tr>\n",
       "      <th>565</th>\n",
       "      <td>-1045.018854</td>\n",
       "      <td>77.057589</td>\n",
       "      <td>0.036669</td>\n",
       "      <td>4.753245</td>\n",
       "      <td>-12.417863</td>\n",
       "      <td>0.059637</td>\n",
       "      <td>0.449831</td>\n",
       "      <td>-0.509154</td>\n",
       "      <td>0.449986</td>\n",
       "      <td>0.493247</td>\n",
       "      <td>-0.007625</td>\n",
       "      <td>-0.055832</td>\n",
       "      <td>-0.015163</td>\n",
       "      <td>-0.009985</td>\n",
       "      <td>-0.003312</td>\n",
       "      <td>M</td>\n",
       "    </tr>\n",
       "    <tr>\n",
       "      <th>566</th>\n",
       "      <td>-314.501756</td>\n",
       "      <td>47.553525</td>\n",
       "      <td>-10.442407</td>\n",
       "      <td>9.771881</td>\n",
       "      <td>-6.156213</td>\n",
       "      <td>0.870726</td>\n",
       "      <td>-2.166493</td>\n",
       "      <td>0.442279</td>\n",
       "      <td>0.097398</td>\n",
       "      <td>-0.144667</td>\n",
       "      <td>0.109147</td>\n",
       "      <td>-0.076263</td>\n",
       "      <td>-0.004448</td>\n",
       "      <td>0.055285</td>\n",
       "      <td>0.012459</td>\n",
       "      <td>M</td>\n",
       "    </tr>\n",
       "    <tr>\n",
       "      <th>567</th>\n",
       "      <td>-1124.858115</td>\n",
       "      <td>34.129225</td>\n",
       "      <td>-19.742087</td>\n",
       "      <td>23.660881</td>\n",
       "      <td>3.565133</td>\n",
       "      <td>-4.086390</td>\n",
       "      <td>-1.705401</td>\n",
       "      <td>0.359964</td>\n",
       "      <td>-0.385030</td>\n",
       "      <td>0.615467</td>\n",
       "      <td>-0.307166</td>\n",
       "      <td>0.028224</td>\n",
       "      <td>0.060561</td>\n",
       "      <td>0.037742</td>\n",
       "      <td>0.031873</td>\n",
       "      <td>M</td>\n",
       "    </tr>\n",
       "    <tr>\n",
       "      <th>568</th>\n",
       "      <td>771.527622</td>\n",
       "      <td>-88.643106</td>\n",
       "      <td>23.889032</td>\n",
       "      <td>-2.547249</td>\n",
       "      <td>-14.717566</td>\n",
       "      <td>-4.418123</td>\n",
       "      <td>-2.815752</td>\n",
       "      <td>-0.030039</td>\n",
       "      <td>0.423451</td>\n",
       "      <td>-0.301439</td>\n",
       "      <td>-0.133353</td>\n",
       "      <td>0.115105</td>\n",
       "      <td>-0.019667</td>\n",
       "      <td>-0.013734</td>\n",
       "      <td>0.004134</td>\n",
       "      <td>B</td>\n",
       "    </tr>\n",
       "  </tbody>\n",
       "</table>\n",
       "<p>569 rows × 16 columns</p>\n",
       "</div>"
      ],
      "text/plain": [
       "               0           1          2          3          4         5  \\\n",
       "0   -1160.142574 -293.917544  48.578398   8.711975  32.000486 -1.265415   \n",
       "1   -1269.122443   15.630182 -35.394534 -17.861283  -4.334874  0.225872   \n",
       "2    -995.793889   39.156743  -1.709753  -4.199340  -0.466529  2.652811   \n",
       "3     407.180803  -67.380320   8.672848  11.759867   7.115461 -1.299436   \n",
       "4    -930.341180  189.340742   1.374801  -8.499183   7.613289 -1.021160   \n",
       "..           ...         ...        ...        ...        ...       ...   \n",
       "564 -1414.126684  110.222492  40.065944  -6.562240  -5.102856  0.395424   \n",
       "565 -1045.018854   77.057589   0.036669   4.753245 -12.417863  0.059637   \n",
       "566  -314.501756   47.553525 -10.442407   9.771881  -6.156213  0.870726   \n",
       "567 -1124.858115   34.129225 -19.742087  23.660881   3.565133 -4.086390   \n",
       "568   771.527622  -88.643106  23.889032  -2.547249 -14.717566 -4.418123   \n",
       "\n",
       "            6         7         8         9        10        11        12  \\\n",
       "0    0.931337 -0.148167 -0.745463  0.589359  0.307804 -0.043452  0.034777   \n",
       "1   -0.046037 -0.200804  0.485828 -0.084035 -0.080642 -0.033042  0.045485   \n",
       "2   -0.779745  0.274026  0.173874 -0.186994 -0.279174  0.020464  0.083505   \n",
       "3   -1.267304  0.060555  0.330639 -0.144155 -0.927471  0.174720  0.282556   \n",
       "4   -0.335522 -0.289109 -0.036087 -0.138502 -0.042228  0.062721 -0.114247   \n",
       "..        ...       ...       ...       ...       ...       ...       ...   \n",
       "564 -0.786751 -0.037082  0.452530 -0.235185 -0.163649 -0.052543 -0.075032   \n",
       "565  0.449831 -0.509154  0.449986  0.493247 -0.007625 -0.055832 -0.015163   \n",
       "566 -2.166493  0.442279  0.097398 -0.144667  0.109147 -0.076263 -0.004448   \n",
       "567 -1.705401  0.359964 -0.385030  0.615467 -0.307166  0.028224  0.060561   \n",
       "568 -2.815752 -0.030039  0.423451 -0.301439 -0.133353  0.115105 -0.019667   \n",
       "\n",
       "           13        14 diagnosis  \n",
       "0   -0.065069  0.012934         M  \n",
       "1    0.005534 -0.021368         M  \n",
       "2   -0.024824  0.026887         M  \n",
       "3   -0.080057 -0.043201         M  \n",
       "4   -0.002274  0.019548         M  \n",
       "..        ...       ...       ...  \n",
       "564  0.015211  0.061390         M  \n",
       "565 -0.009985 -0.003312         M  \n",
       "566  0.055285  0.012459         M  \n",
       "567  0.037742  0.031873         M  \n",
       "568 -0.013734  0.004134         B  \n",
       "\n",
       "[569 rows x 16 columns]"
      ]
     },
     "execution_count": 20,
     "metadata": {},
     "output_type": "execute_result"
    }
   ],
   "source": [
    "new_data"
   ]
  },
  {
   "cell_type": "code",
   "execution_count": 21,
   "id": "839b1a1e",
   "metadata": {},
   "outputs": [
    {
     "data": {
      "text/plain": [
       "(212, 16)"
      ]
     },
     "execution_count": 21,
     "metadata": {},
     "output_type": "execute_result"
    }
   ],
   "source": [
    "new_data[new_data['diagnosis']=='M'].shape"
   ]
  },
  {
   "cell_type": "code",
   "execution_count": 22,
   "id": "f06a34a0",
   "metadata": {},
   "outputs": [
    {
     "data": {
      "text/plain": [
       "(357, 16)"
      ]
     },
     "execution_count": 22,
     "metadata": {},
     "output_type": "execute_result"
    }
   ],
   "source": [
    "new_data[new_data['diagnosis']=='B'].shape"
   ]
  },
  {
   "cell_type": "markdown",
   "id": "3f9cfcc3",
   "metadata": {},
   "source": [
    "# cross validation"
   ]
  },
  {
   "cell_type": "code",
   "execution_count": 23,
   "id": "dc59c0a1",
   "metadata": {},
   "outputs": [
    {
     "data": {
      "text/plain": [
       "398"
      ]
     },
     "execution_count": 23,
     "metadata": {},
     "output_type": "execute_result"
    }
   ],
   "source": [
    "training_data_len =int(0.7*new_data.shape[0])\n",
    "training_data_len"
   ]
  },
  {
   "cell_type": "code",
   "execution_count": 24,
   "id": "286bbd0f",
   "metadata": {},
   "outputs": [],
   "source": [
    "#we have to take training data lengths of  given classification are equally  otherwise it predicts wrongly\n",
    "benign_train_data=new_data[new_data['diagnosis']=='B'].iloc[0: int(training_data_len/2)]\n",
    "malignant_train_data=new_data[new_data['diagnosis']=='M'].iloc[0: int(training_data_len/2)]\n"
   ]
  },
  {
   "cell_type": "code",
   "execution_count": 25,
   "id": "d9d93e3c",
   "metadata": {},
   "outputs": [
    {
     "data": {
      "text/plain": [
       "(199, 16)"
      ]
     },
     "execution_count": 25,
     "metadata": {},
     "output_type": "execute_result"
    }
   ],
   "source": [
    "benign_train_data.shape"
   ]
  },
  {
   "cell_type": "code",
   "execution_count": 26,
   "id": "33f6042d",
   "metadata": {},
   "outputs": [
    {
     "data": {
      "text/plain": [
       "(398, 16)"
      ]
     },
     "execution_count": 26,
     "metadata": {},
     "output_type": "execute_result"
    }
   ],
   "source": [
    "#now cancatenate both data \n",
    "train_data =pd.concat([benign_train_data,malignant_train_data],axis=0)\n",
    "train_data.shape"
   ]
  },
  {
   "cell_type": "code",
   "execution_count": 27,
   "id": "8fc42fef",
   "metadata": {},
   "outputs": [
    {
     "data": {
      "text/plain": [
       "(158, 16)"
      ]
     },
     "execution_count": 27,
     "metadata": {},
     "output_type": "execute_result"
    }
   ],
   "source": [
    "remaining_data_of_bengign=new_data[new_data['diagnosis']=='B'].iloc[int(training_data_len/2):]\n",
    "remaining_data_of_bengign.shape"
   ]
  },
  {
   "cell_type": "code",
   "execution_count": 28,
   "id": "dc3c1c28",
   "metadata": {},
   "outputs": [
    {
     "data": {
      "text/plain": [
       "(13, 16)"
      ]
     },
     "execution_count": 28,
     "metadata": {},
     "output_type": "execute_result"
    }
   ],
   "source": [
    "remaining_data_of_malignant=new_data[new_data['diagnosis']=='M'].iloc[int(training_data_len/2): ]\n",
    "remaining_data_of_malignant.shape\n"
   ]
  },
  {
   "cell_type": "code",
   "execution_count": 29,
   "id": "093306dc",
   "metadata": {},
   "outputs": [
    {
     "data": {
      "text/plain": [
       "113"
      ]
     },
     "execution_count": 29,
     "metadata": {},
     "output_type": "execute_result"
    }
   ],
   "source": [
    "#now we can take cross validation part of data\n",
    "cv_len =int(0.2*new_data.shape[0])\n",
    "cv_len"
   ]
  },
  {
   "cell_type": "code",
   "execution_count": 30,
   "id": "ba4f3074",
   "metadata": {},
   "outputs": [
    {
     "data": {
      "text/plain": [
       "(171, 16)"
      ]
     },
     "execution_count": 30,
     "metadata": {},
     "output_type": "execute_result"
    }
   ],
   "source": [
    "#now we can concatenate the remaining data\n",
    "remaining_data =pd.concat([remaining_data_of_bengign,remaining_data_of_malignant],axis=0)\n",
    "remaining_data.shape\n"
   ]
  },
  {
   "cell_type": "code",
   "execution_count": 31,
   "id": "b59f8033",
   "metadata": {},
   "outputs": [
    {
     "data": {
      "text/plain": [
       "(113, 16)"
      ]
     },
     "execution_count": 31,
     "metadata": {},
     "output_type": "execute_result"
    }
   ],
   "source": [
    "cross_validation_data= remaining_data.iloc[0:113, :]\n",
    "cross_validation_data.shape"
   ]
  },
  {
   "cell_type": "code",
   "execution_count": 32,
   "id": "ba27ce70",
   "metadata": {},
   "outputs": [
    {
     "data": {
      "text/plain": [
       "(58, 16)"
      ]
     },
     "execution_count": 32,
     "metadata": {},
     "output_type": "execute_result"
    }
   ],
   "source": [
    "test_data =remaining_data.iloc[113: , :]\n",
    "test_data.shape"
   ]
  },
  {
   "cell_type": "code",
   "execution_count": 33,
   "id": "5f3956f0",
   "metadata": {},
   "outputs": [
    {
     "data": {
      "text/html": [
       "<div>\n",
       "<style scoped>\n",
       "    .dataframe tbody tr th:only-of-type {\n",
       "        vertical-align: middle;\n",
       "    }\n",
       "\n",
       "    .dataframe tbody tr th {\n",
       "        vertical-align: top;\n",
       "    }\n",
       "\n",
       "    .dataframe thead th {\n",
       "        text-align: right;\n",
       "    }\n",
       "</style>\n",
       "<table border=\"1\" class=\"dataframe\">\n",
       "  <thead>\n",
       "    <tr style=\"text-align: right;\">\n",
       "      <th></th>\n",
       "      <th>0</th>\n",
       "      <th>1</th>\n",
       "      <th>2</th>\n",
       "      <th>3</th>\n",
       "      <th>4</th>\n",
       "      <th>5</th>\n",
       "      <th>6</th>\n",
       "      <th>7</th>\n",
       "      <th>8</th>\n",
       "      <th>9</th>\n",
       "      <th>10</th>\n",
       "      <th>11</th>\n",
       "      <th>12</th>\n",
       "      <th>13</th>\n",
       "      <th>14</th>\n",
       "      <th>diagnosis</th>\n",
       "    </tr>\n",
       "  </thead>\n",
       "  <tbody>\n",
       "    <tr>\n",
       "      <th>563</th>\n",
       "      <td>-1167.136978</td>\n",
       "      <td>105.596679</td>\n",
       "      <td>11.102074</td>\n",
       "      <td>14.203503</td>\n",
       "      <td>7.357428</td>\n",
       "      <td>-2.824776</td>\n",
       "      <td>-3.130968</td>\n",
       "      <td>-0.961313</td>\n",
       "      <td>-0.789158</td>\n",
       "      <td>-0.675360</td>\n",
       "      <td>0.439485</td>\n",
       "      <td>-0.024826</td>\n",
       "      <td>-0.125908</td>\n",
       "      <td>-0.054320</td>\n",
       "      <td>0.004860</td>\n",
       "      <td>M</td>\n",
       "    </tr>\n",
       "    <tr>\n",
       "      <th>564</th>\n",
       "      <td>-1414.126684</td>\n",
       "      <td>110.222492</td>\n",
       "      <td>40.065944</td>\n",
       "      <td>-6.562240</td>\n",
       "      <td>-5.102856</td>\n",
       "      <td>0.395424</td>\n",
       "      <td>-0.786751</td>\n",
       "      <td>-0.037082</td>\n",
       "      <td>0.452530</td>\n",
       "      <td>-0.235185</td>\n",
       "      <td>-0.163649</td>\n",
       "      <td>-0.052543</td>\n",
       "      <td>-0.075032</td>\n",
       "      <td>0.015211</td>\n",
       "      <td>0.061390</td>\n",
       "      <td>M</td>\n",
       "    </tr>\n",
       "    <tr>\n",
       "      <th>565</th>\n",
       "      <td>-1045.018854</td>\n",
       "      <td>77.057589</td>\n",
       "      <td>0.036669</td>\n",
       "      <td>4.753245</td>\n",
       "      <td>-12.417863</td>\n",
       "      <td>0.059637</td>\n",
       "      <td>0.449831</td>\n",
       "      <td>-0.509154</td>\n",
       "      <td>0.449986</td>\n",
       "      <td>0.493247</td>\n",
       "      <td>-0.007625</td>\n",
       "      <td>-0.055832</td>\n",
       "      <td>-0.015163</td>\n",
       "      <td>-0.009985</td>\n",
       "      <td>-0.003312</td>\n",
       "      <td>M</td>\n",
       "    </tr>\n",
       "    <tr>\n",
       "      <th>566</th>\n",
       "      <td>-314.501756</td>\n",
       "      <td>47.553525</td>\n",
       "      <td>-10.442407</td>\n",
       "      <td>9.771881</td>\n",
       "      <td>-6.156213</td>\n",
       "      <td>0.870726</td>\n",
       "      <td>-2.166493</td>\n",
       "      <td>0.442279</td>\n",
       "      <td>0.097398</td>\n",
       "      <td>-0.144667</td>\n",
       "      <td>0.109147</td>\n",
       "      <td>-0.076263</td>\n",
       "      <td>-0.004448</td>\n",
       "      <td>0.055285</td>\n",
       "      <td>0.012459</td>\n",
       "      <td>M</td>\n",
       "    </tr>\n",
       "    <tr>\n",
       "      <th>567</th>\n",
       "      <td>-1124.858115</td>\n",
       "      <td>34.129225</td>\n",
       "      <td>-19.742087</td>\n",
       "      <td>23.660881</td>\n",
       "      <td>3.565133</td>\n",
       "      <td>-4.086390</td>\n",
       "      <td>-1.705401</td>\n",
       "      <td>0.359964</td>\n",
       "      <td>-0.385030</td>\n",
       "      <td>0.615467</td>\n",
       "      <td>-0.307166</td>\n",
       "      <td>0.028224</td>\n",
       "      <td>0.060561</td>\n",
       "      <td>0.037742</td>\n",
       "      <td>0.031873</td>\n",
       "      <td>M</td>\n",
       "    </tr>\n",
       "  </tbody>\n",
       "</table>\n",
       "</div>"
      ],
      "text/plain": [
       "               0           1          2          3          4         5  \\\n",
       "563 -1167.136978  105.596679  11.102074  14.203503   7.357428 -2.824776   \n",
       "564 -1414.126684  110.222492  40.065944  -6.562240  -5.102856  0.395424   \n",
       "565 -1045.018854   77.057589   0.036669   4.753245 -12.417863  0.059637   \n",
       "566  -314.501756   47.553525 -10.442407   9.771881  -6.156213  0.870726   \n",
       "567 -1124.858115   34.129225 -19.742087  23.660881   3.565133 -4.086390   \n",
       "\n",
       "            6         7         8         9        10        11        12  \\\n",
       "563 -3.130968 -0.961313 -0.789158 -0.675360  0.439485 -0.024826 -0.125908   \n",
       "564 -0.786751 -0.037082  0.452530 -0.235185 -0.163649 -0.052543 -0.075032   \n",
       "565  0.449831 -0.509154  0.449986  0.493247 -0.007625 -0.055832 -0.015163   \n",
       "566 -2.166493  0.442279  0.097398 -0.144667  0.109147 -0.076263 -0.004448   \n",
       "567 -1.705401  0.359964 -0.385030  0.615467 -0.307166  0.028224  0.060561   \n",
       "\n",
       "           13        14 diagnosis  \n",
       "563 -0.054320  0.004860         M  \n",
       "564  0.015211  0.061390         M  \n",
       "565 -0.009985 -0.003312         M  \n",
       "566  0.055285  0.012459         M  \n",
       "567  0.037742  0.031873         M  "
      ]
     },
     "execution_count": 33,
     "metadata": {},
     "output_type": "execute_result"
    }
   ],
   "source": [
    "test_data.tail()"
   ]
  },
  {
   "cell_type": "code",
   "execution_count": 34,
   "id": "adc08a4a",
   "metadata": {},
   "outputs": [],
   "source": [
    "mu_hat =np.array(train_data[train_data['diagnosis'] =='M'].iloc[:,0:15].mean())\n",
    "sigma_hat=np.array(train_data[train_data['diagnosis']=='M'].iloc[:,0:15].cov())\n",
    "    "
   ]
  },
  {
   "cell_type": "code",
   "execution_count": 35,
   "id": "340a3f3d",
   "metadata": {},
   "outputs": [
    {
     "data": {
      "text/plain": [
       "array([-6.19149059e+02, -9.10604406e+00, -3.00251408e+00,  3.21867937e+00,\n",
       "        6.62722209e-01, -1.49641755e-03,  1.33728677e-01, -6.56051800e-03,\n",
       "        4.44266350e-02, -2.27845949e-02, -5.28254216e-02,  2.13821710e-03,\n",
       "        2.13592658e-03, -4.87610367e-03,  1.12627757e-04])"
      ]
     },
     "execution_count": 35,
     "metadata": {},
     "output_type": "execute_result"
    }
   ],
   "source": [
    "mu_hat"
   ]
  },
  {
   "cell_type": "code",
   "execution_count": 36,
   "id": "1d988757",
   "metadata": {},
   "outputs": [
    {
     "data": {
      "text/plain": [
       "19723.271206452526"
      ]
     },
     "execution_count": 36,
     "metadata": {},
     "output_type": "execute_result"
    }
   ],
   "source": [
    "np.linalg.det(sigma_hat)"
   ]
  },
  {
   "cell_type": "code",
   "execution_count": 37,
   "id": "b3f61836",
   "metadata": {},
   "outputs": [
    {
     "data": {
      "text/plain": [
       "(15, 15)"
      ]
     },
     "execution_count": 37,
     "metadata": {},
     "output_type": "execute_result"
    }
   ],
   "source": [
    "sigma_hat.shape"
   ]
  },
  {
   "cell_type": "code",
   "execution_count": 38,
   "id": "71f848bb",
   "metadata": {},
   "outputs": [],
   "source": [
    "#now same work for benign\n",
    "mu_hat_b=np.array(train_data[train_data['diagnosis']=='B'].iloc[:,0:15].mean())\n",
    "\n",
    "sigma_hat_b=np.array(train_data[train_data['diagnosis']=='B'].iloc[:,0:15].cov())\n"
   ]
  },
  {
   "cell_type": "code",
   "execution_count": 39,
   "id": "b5a02642",
   "metadata": {},
   "outputs": [
    {
     "data": {
      "text/plain": [
       "(15, 15)"
      ]
     },
     "execution_count": 39,
     "metadata": {},
     "output_type": "execute_result"
    }
   ],
   "source": [
    "sigma_hat_b.shape"
   ]
  },
  {
   "cell_type": "code",
   "execution_count": 40,
   "id": "70951945",
   "metadata": {},
   "outputs": [],
   "source": [
    "malignant_prior=0.5\n",
    "benign_prior=0.5"
   ]
  },
  {
   "cell_type": "code",
   "execution_count": 41,
   "id": "26f5b5ef",
   "metadata": {},
   "outputs": [],
   "source": [
    "def mock_test(data):\n",
    "    inputs=np.array(data)\n",
    "    malignant_probability=s.multivariate_normal.pdf(inputs,mu_hat,sigma_hat)*malignant_prior\n",
    "    benign_probability=s.multivariate_normal.pdf(inputs,mu_hat_b,sigma_hat_b)*benign_prior\n",
    "    boolean_mask= malignant_probability>benign_probability\n",
    "    predict_category= pd.Series(boolean_mask)\n",
    "    predict_category.replace(to_replace=[True,False],value=['M','B'],inplace=True)\n",
    "    return np.array(predict_category)\n",
    "    "
   ]
  },
  {
   "cell_type": "code",
   "execution_count": 42,
   "id": "eb81bdfc",
   "metadata": {},
   "outputs": [],
   "source": [
    "predicted_output=mock_test(cross_validation_data.iloc[:,0:15])"
   ]
  },
  {
   "cell_type": "code",
   "execution_count": 43,
   "id": "21d637ba",
   "metadata": {},
   "outputs": [],
   "source": [
    "actual_output=np.array(cross_validation_data['diagnosis'])"
   ]
  },
  {
   "cell_type": "code",
   "execution_count": 44,
   "id": "3036a58a",
   "metadata": {},
   "outputs": [],
   "source": [
    "boolean_mask=actual_output==predicted_output"
   ]
  },
  {
   "cell_type": "code",
   "execution_count": 45,
   "id": "fc020aaf",
   "metadata": {},
   "outputs": [
    {
     "data": {
      "text/plain": [
       "0.9292035398230089"
      ]
     },
     "execution_count": 45,
     "metadata": {},
     "output_type": "execute_result"
    }
   ],
   "source": [
    "accuracy =np.count_nonzero(boolean_mask)/boolean_mask.shape[0]\n",
    "accuracy"
   ]
  },
  {
   "cell_type": "code",
   "execution_count": 46,
   "id": "cf0a4f69",
   "metadata": {},
   "outputs": [
    {
     "data": {
      "text/plain": [
       "array(['B', 'B', 'B', 'B', 'B', 'B', 'B', 'B', 'B', 'B', 'B', 'B', 'B',\n",
       "       'B', 'B', 'B', 'B', 'B', 'B', 'B', 'B', 'B', 'B', 'B', 'B', 'B',\n",
       "       'B', 'B', 'B', 'B', 'B', 'B', 'B', 'B', 'B', 'B', 'B', 'B', 'B',\n",
       "       'B', 'B', 'B', 'B', 'B', 'B', 'M', 'M', 'M', 'M', 'M', 'M', 'B',\n",
       "       'M', 'M', 'M', 'M', 'M', 'M'], dtype=object)"
      ]
     },
     "execution_count": 46,
     "metadata": {},
     "output_type": "execute_result"
    }
   ],
   "source": [
    "#if we do on test_data\n",
    "test_pred =mock_test(test_data.iloc[:,0:15])\n",
    "test_pred"
   ]
  },
  {
   "cell_type": "code",
   "execution_count": 47,
   "id": "d10bcd75",
   "metadata": {},
   "outputs": [
    {
     "data": {
      "text/plain": [
       "array(['B', 'B', 'B', 'B', 'B', 'B', 'B', 'B', 'B', 'B', 'B', 'B', 'B',\n",
       "       'B', 'B', 'B', 'B', 'B', 'B', 'B', 'B', 'B', 'B', 'B', 'B', 'B',\n",
       "       'B', 'B', 'B', 'B', 'B', 'B', 'B', 'B', 'B', 'B', 'B', 'B', 'B',\n",
       "       'B', 'B', 'B', 'B', 'B', 'B', 'M', 'M', 'M', 'M', 'M', 'M', 'M',\n",
       "       'M', 'M', 'M', 'M', 'M', 'M'], dtype=object)"
      ]
     },
     "execution_count": 47,
     "metadata": {},
     "output_type": "execute_result"
    }
   ],
   "source": [
    "actual_test_result=np.array(test_data['diagnosis'])\n",
    "actual_test_result\n"
   ]
  },
  {
   "cell_type": "code",
   "execution_count": 48,
   "id": "8ee02d49",
   "metadata": {},
   "outputs": [],
   "source": [
    "boolean_mask1= actual_test_result == test_pred\n"
   ]
  },
  {
   "cell_type": "code",
   "execution_count": 49,
   "id": "5dc58536",
   "metadata": {},
   "outputs": [
    {
     "data": {
      "text/plain": [
       "0.9827586206896551"
      ]
     },
     "execution_count": 49,
     "metadata": {},
     "output_type": "execute_result"
    }
   ],
   "source": [
    "test_accuracy =np.count_nonzero(boolean_mask1)/boolean_mask1.shape[0]\n",
    "test_accuracy"
   ]
  },
  {
   "cell_type": "code",
   "execution_count": 55,
   "id": "aa8d1b2d",
   "metadata": {},
   "outputs": [
    {
     "name": "stdout",
     "output_type": "stream",
     "text": [
      "              precision    recall  f1-score   support\n",
      "\n",
      "           B       0.98      1.00      0.99        45\n",
      "           M       1.00      0.92      0.96        13\n",
      "\n",
      "    accuracy                           0.98        58\n",
      "   macro avg       0.99      0.96      0.97        58\n",
      "weighted avg       0.98      0.98      0.98        58\n",
      "\n"
     ]
    }
   ],
   "source": [
    "print(classification_report(actual_test_result,test_pred))"
   ]
  },
  {
   "cell_type": "markdown",
   "id": "c21913da",
   "metadata": {},
   "source": [
    "# this is our final results"
   ]
  },
  {
   "cell_type": "code",
   "execution_count": null,
   "id": "c143f7cf",
   "metadata": {},
   "outputs": [],
   "source": []
  },
  {
   "cell_type": "code",
   "execution_count": null,
   "id": "e4f0994b",
   "metadata": {},
   "outputs": [],
   "source": []
  }
 ],
 "metadata": {
  "kernelspec": {
   "display_name": "Python 3 (ipykernel)",
   "language": "python",
   "name": "python3"
  },
  "language_info": {
   "codemirror_mode": {
    "name": "ipython",
    "version": 3
   },
   "file_extension": ".py",
   "mimetype": "text/x-python",
   "name": "python",
   "nbconvert_exporter": "python",
   "pygments_lexer": "ipython3",
   "version": "3.9.7"
  }
 },
 "nbformat": 4,
 "nbformat_minor": 5
}
