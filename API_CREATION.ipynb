{
 "cells": [
  {
   "cell_type": "code",
   "execution_count": 1,
   "id": "9d5ea186",
   "metadata": {},
   "outputs": [],
   "source": [
    "import pandas as pd\n",
    "import numpy as np\n",
    "import scipy.stats as s\n",
    "from sklearn.metrics import classification_report"
   ]
  },
  {
   "cell_type": "code",
   "execution_count": 2,
   "id": "909357c5",
   "metadata": {},
   "outputs": [],
   "source": [
    "class gaussian_naive:\n",
    "    \"\"\"\n",
    "    features: all the features in data,excluding labels\n",
    "    labels : a series consisting of binary labels\n",
    "    data_splitting:  a tuple consisting of data split ratio\n",
    "    apply_pca : boolean_value specifying whether pca apply or not\n",
    "    n_components: number of eigne vector that having non zero to keep\n",
    "    \n",
    "    \"\"\"\n",
    "    \n",
    "    \n",
    "    def __init__(xerox_copy,features,labels,data_spilitting,apply_pca,n_components):\n",
    "        xerox_copy.binary_labels = np.array(labels).reshape(labels.shape[0],1)\n",
    "        xerox_copy.split_ratio = data_splitting\n",
    "        xerox_copy.n_principal_component =n_components\n",
    "        xerox_copy.unique_labels =list(labels.unique())\n",
    "        if apply_pca == True:\n",
    "            xerox_copy.X_new =xerox_copy.apply_dim_reduction(features,xerox_copy.n_principal_component)\n",
    "    \n",
    "    def apply_dim_reduction(xerox_copy,data,n_components):\n",
    "        X =np.array(data)\n",
    "        mu_hat = np.mean(X,axis=0)\n",
    "        X_dash =X -mu_hat\n",
    "        sigma_hat =(1/data.shape[0] )*np.matmul(x_dash.T,X_dash)\n",
    "        sigma_hat_decompose=np.linalg.svd(sigma_hat)\n",
    "        Q =sigma_hat_decompose[0]\n",
    "        Q_tilda =Q[:,0:n_components]\n",
    "        X_new=np.matmul(X_dash,Q_tilda)\n",
    "        \n",
    "        return X_new\n",
    "    \n",
    "    def data_splitting_ratio(xerox_copy):\n",
    "        new_data=pd.DataFrame(data=xerox_copy.X_new)\n",
    "        new_data['labels']=xerox_copy.binary_labels\n",
    "        X_train_len =int(xerox_copy.split_ratio[0]*new_data.shape[0])\n",
    "        neg_training_data =new_data[new_data['labels']==xerox_copy.unique_labels[0]].iloc[:,0:X_train_len//2]\n",
    "        pos_training_data=new_data[new_data['labels']==xerox_copy.unique_labels[1]].iloc[:,0:X_train_len//2]\n",
    "        train_data= pd.concat([neg_training_data,pos_training_data])\n",
    "        cv_data_len=int(xerox_copy.split_ratio[1]*new_data.shape[0])\n",
    "        neg_remaining_data=new_data[new_data['labels']==xerox_copy.unique_labels[0]].iloc[:,X_train_len: ]\n",
    "        pos_remaining_data=new_data[new_data['labels']==xerox_copy.unique_labels[1]].iloc[:,X_train_len: ]\n",
    "        remaining_data=pd.concat([neg_remaining,pos_remaining_data])\n",
    "        cv_data=remaining_data.iloc[:,0:cv_data_len]\n",
    "        test_data=remaining_data.iloc[:,cv_data_len: ]\n",
    "        \n",
    "        return train_data,cv_data,test_data\n",
    "    def train_gaussian(xerox_copy,data):\n",
    "        mu_hat_neg=np.array(data[data['labels']==xerox_copy.unique_labels[0]].iloc[:,0:data.shape[0]//2]).mean()\n",
    "        sigma_hat_neg=np.array(data[data['labels']==xerox_copy.unique_labels[0]].iloc[:,0:data.shape[0]//2]).cov()\n",
    "        mu_hat_pos=np.array(data[data['labels']==xerox_copy.unique_labels[1]].iloc[:,0:data.shape[0]//2]).mean()\n",
    "        sigma_hat_pos=np.array(data[data['labels']==xerox_copy.unique_labels[1]].iloc[:,0:data.shape[0]//2]).cov()\n",
    "        #now we are doing monkey patching\n",
    "        xerox_copy.pos_likelihood=(mu_hat_pos,sigma_hat_pos)\n",
    "        xerox_copy.neg_likelihood=(mu_hat_neg,sigma_hat_neg)\n",
    "        \n",
    "        \n",
    "    def evaluate(xerox_copy,data):\n",
    "        inputs =np.array(data)\n",
    "        posterior_pos =s.multivariate_normal.pdf(inputs,xerox_copy.pos_likelihood)\n",
    "        posterior_neg=s.multivariate_normal.pdf(inputs,xerox_copy.neg_likelihood)\n",
    "        boolean_mask=posterior_pos > posterior_neg\n",
    "        predicted_category =pd.Series(boolean_mask)\n",
    "        predicted_category.replace(to_replace=[False,True],value=[xerox_copy.unique_labels[0],xerox_copy.unique_labels[1]])\n",
    "        predicted_results=np.array(predicted_category)\n",
    "        actual_results =np.array(data['labels'])\n",
    "        print(classification_report(actual_results,predicted_results,target_names=xerox_copy.unique_labels))\n",
    "        \n",
    "        \n",
    "        \n",
    "        \n",
    "        "
   ]
  },
  {
   "cell_type": "code",
   "execution_count": 3,
   "id": "12496c06",
   "metadata": {},
   "outputs": [
    {
     "name": "stdout",
     "output_type": "stream",
     "text": [
      "module is created\n"
     ]
    }
   ],
   "source": [
    "if __name__ ==\"__main__\":\n",
    "    print(\"module is created\")"
   ]
  },
  {
   "cell_type": "code",
   "execution_count": null,
   "id": "fdd0739b",
   "metadata": {},
   "outputs": [],
   "source": []
  },
  {
   "cell_type": "code",
   "execution_count": null,
   "id": "23fb45fe",
   "metadata": {},
   "outputs": [],
   "source": []
  },
  {
   "cell_type": "code",
   "execution_count": null,
   "id": "5d915a7a",
   "metadata": {},
   "outputs": [],
   "source": []
  },
  {
   "cell_type": "code",
   "execution_count": null,
   "id": "ca25f605",
   "metadata": {},
   "outputs": [],
   "source": []
  },
  {
   "cell_type": "code",
   "execution_count": null,
   "id": "d3c15421",
   "metadata": {},
   "outputs": [],
   "source": []
  },
  {
   "cell_type": "code",
   "execution_count": null,
   "id": "d13eda30",
   "metadata": {},
   "outputs": [],
   "source": []
  },
  {
   "cell_type": "code",
   "execution_count": null,
   "id": "3e8a7498",
   "metadata": {},
   "outputs": [],
   "source": []
  },
  {
   "cell_type": "code",
   "execution_count": null,
   "id": "d590fdce",
   "metadata": {},
   "outputs": [],
   "source": []
  },
  {
   "cell_type": "code",
   "execution_count": null,
   "id": "1bd46712",
   "metadata": {},
   "outputs": [],
   "source": []
  },
  {
   "cell_type": "code",
   "execution_count": null,
   "id": "ca8356cf",
   "metadata": {},
   "outputs": [],
   "source": []
  },
  {
   "cell_type": "code",
   "execution_count": null,
   "id": "8a62f2b6",
   "metadata": {},
   "outputs": [],
   "source": []
  },
  {
   "cell_type": "code",
   "execution_count": null,
   "id": "ade29d6f",
   "metadata": {},
   "outputs": [],
   "source": []
  }
 ],
 "metadata": {
  "kernelspec": {
   "display_name": "Python 3 (ipykernel)",
   "language": "python",
   "name": "python3"
  },
  "language_info": {
   "codemirror_mode": {
    "name": "ipython",
    "version": 3
   },
   "file_extension": ".py",
   "mimetype": "text/x-python",
   "name": "python",
   "nbconvert_exporter": "python",
   "pygments_lexer": "ipython3",
   "version": "3.9.7"
  }
 },
 "nbformat": 4,
 "nbformat_minor": 5
}
